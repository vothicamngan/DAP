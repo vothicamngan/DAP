{
 "cells": [
  {
   "cell_type": "code",
   "execution_count": null,
   "metadata": {},
   "outputs": [],
   "source": []
  },
  {
   "cell_type": "code",
   "execution_count": 7,
   "metadata": {},
   "outputs": [
    {
     "ename": "KeyError",
     "evalue": "10",
     "output_type": "error",
     "traceback": [
      "\u001b[1;31m---------------------------------------------------------------------------\u001b[0m",
      "\u001b[1;31mKeyError\u001b[0m                                  Traceback (most recent call last)",
      "\u001b[1;32me:\\TL DA LEARN\\PhanTichDLPython\\buoi7.ipynb Cell 2\u001b[0m line \u001b[0;36m1\n\u001b[0;32m      <a href='vscode-notebook-cell:/e%3A/TL%20DA%20LEARN/PhanTichDLPython/buoi7.ipynb#W0sZmlsZQ%3D%3D?line=7'>8</a>\u001b[0m boston_df \u001b[39m=\u001b[39m boston_df\u001b[39m.\u001b[39mapply(pd\u001b[39m.\u001b[39mto_numeric)\n\u001b[0;32m     <a href='vscode-notebook-cell:/e%3A/TL%20DA%20LEARN/PhanTichDLPython/buoi7.ipynb#W0sZmlsZQ%3D%3D?line=9'>10</a>\u001b[0m \u001b[39m# sns.boxplot(boston_df['DIS'])  # vẽ box plot cho dữ liệu ở cột DIS\u001b[39;00m\n\u001b[1;32m---> <a href='vscode-notebook-cell:/e%3A/TL%20DA%20LEARN/PhanTichDLPython/buoi7.ipynb#W0sZmlsZQ%3D%3D?line=10'>11</a>\u001b[0m boston_df\u001b[39m.\u001b[39;49mhist(\u001b[39m20\u001b[39;49m,\u001b[39m10\u001b[39;49m)\n",
      "File \u001b[1;32mc:\\Users\\vcn001-cl\\AppData\\Local\\Programs\\Python\\Python311\\Lib\\site-packages\\pandas\\plotting\\_core.py:223\u001b[0m, in \u001b[0;36mhist_frame\u001b[1;34m(data, column, by, grid, xlabelsize, xrot, ylabelsize, yrot, ax, sharex, sharey, figsize, layout, bins, backend, legend, **kwargs)\u001b[0m\n\u001b[0;32m    134\u001b[0m \u001b[39m\u001b[39m\u001b[39m\"\"\"\u001b[39;00m\n\u001b[0;32m    135\u001b[0m \u001b[39mMake a histogram of the DataFrame's columns.\u001b[39;00m\n\u001b[0;32m    136\u001b[0m \n\u001b[1;32m   (...)\u001b[0m\n\u001b[0;32m    220\u001b[0m \u001b[39m    >>> hist = df.hist(bins=3)\u001b[39;00m\n\u001b[0;32m    221\u001b[0m \u001b[39m\"\"\"\u001b[39;00m\n\u001b[0;32m    222\u001b[0m plot_backend \u001b[39m=\u001b[39m _get_plot_backend(backend)\n\u001b[1;32m--> 223\u001b[0m \u001b[39mreturn\u001b[39;00m plot_backend\u001b[39m.\u001b[39;49mhist_frame(\n\u001b[0;32m    224\u001b[0m     data,\n\u001b[0;32m    225\u001b[0m     column\u001b[39m=\u001b[39;49mcolumn,\n\u001b[0;32m    226\u001b[0m     by\u001b[39m=\u001b[39;49mby,\n\u001b[0;32m    227\u001b[0m     grid\u001b[39m=\u001b[39;49mgrid,\n\u001b[0;32m    228\u001b[0m     xlabelsize\u001b[39m=\u001b[39;49mxlabelsize,\n\u001b[0;32m    229\u001b[0m     xrot\u001b[39m=\u001b[39;49mxrot,\n\u001b[0;32m    230\u001b[0m     ylabelsize\u001b[39m=\u001b[39;49mylabelsize,\n\u001b[0;32m    231\u001b[0m     yrot\u001b[39m=\u001b[39;49myrot,\n\u001b[0;32m    232\u001b[0m     ax\u001b[39m=\u001b[39;49max,\n\u001b[0;32m    233\u001b[0m     sharex\u001b[39m=\u001b[39;49msharex,\n\u001b[0;32m    234\u001b[0m     sharey\u001b[39m=\u001b[39;49msharey,\n\u001b[0;32m    235\u001b[0m     figsize\u001b[39m=\u001b[39;49mfigsize,\n\u001b[0;32m    236\u001b[0m     layout\u001b[39m=\u001b[39;49mlayout,\n\u001b[0;32m    237\u001b[0m     legend\u001b[39m=\u001b[39;49mlegend,\n\u001b[0;32m    238\u001b[0m     bins\u001b[39m=\u001b[39;49mbins,\n\u001b[0;32m    239\u001b[0m     \u001b[39m*\u001b[39;49m\u001b[39m*\u001b[39;49mkwargs,\n\u001b[0;32m    240\u001b[0m )\n",
      "File \u001b[1;32mc:\\Users\\vcn001-cl\\AppData\\Local\\Programs\\Python\\Python311\\Lib\\site-packages\\pandas\\plotting\\_matplotlib\\hist.py:483\u001b[0m, in \u001b[0;36mhist_frame\u001b[1;34m(data, column, by, grid, xlabelsize, xrot, ylabelsize, yrot, ax, sharex, sharey, figsize, layout, bins, legend, **kwds)\u001b[0m\n\u001b[0;32m    481\u001b[0m     \u001b[39mraise\u001b[39;00m \u001b[39mValueError\u001b[39;00m(\u001b[39m\"\u001b[39m\u001b[39mCannot use both legend and label\u001b[39m\u001b[39m\"\u001b[39m)\n\u001b[0;32m    482\u001b[0m \u001b[39mif\u001b[39;00m by \u001b[39mis\u001b[39;00m \u001b[39mnot\u001b[39;00m \u001b[39mNone\u001b[39;00m:\n\u001b[1;32m--> 483\u001b[0m     axes \u001b[39m=\u001b[39m _grouped_hist(\n\u001b[0;32m    484\u001b[0m         data,\n\u001b[0;32m    485\u001b[0m         column\u001b[39m=\u001b[39;49mcolumn,\n\u001b[0;32m    486\u001b[0m         by\u001b[39m=\u001b[39;49mby,\n\u001b[0;32m    487\u001b[0m         ax\u001b[39m=\u001b[39;49max,\n\u001b[0;32m    488\u001b[0m         grid\u001b[39m=\u001b[39;49mgrid,\n\u001b[0;32m    489\u001b[0m         figsize\u001b[39m=\u001b[39;49mfigsize,\n\u001b[0;32m    490\u001b[0m         sharex\u001b[39m=\u001b[39;49msharex,\n\u001b[0;32m    491\u001b[0m         sharey\u001b[39m=\u001b[39;49msharey,\n\u001b[0;32m    492\u001b[0m         layout\u001b[39m=\u001b[39;49mlayout,\n\u001b[0;32m    493\u001b[0m         bins\u001b[39m=\u001b[39;49mbins,\n\u001b[0;32m    494\u001b[0m         xlabelsize\u001b[39m=\u001b[39;49mxlabelsize,\n\u001b[0;32m    495\u001b[0m         xrot\u001b[39m=\u001b[39;49mxrot,\n\u001b[0;32m    496\u001b[0m         ylabelsize\u001b[39m=\u001b[39;49mylabelsize,\n\u001b[0;32m    497\u001b[0m         yrot\u001b[39m=\u001b[39;49myrot,\n\u001b[0;32m    498\u001b[0m         legend\u001b[39m=\u001b[39;49mlegend,\n\u001b[0;32m    499\u001b[0m         \u001b[39m*\u001b[39;49m\u001b[39m*\u001b[39;49mkwds,\n\u001b[0;32m    500\u001b[0m     )\n\u001b[0;32m    501\u001b[0m     \u001b[39mreturn\u001b[39;00m axes\n\u001b[0;32m    503\u001b[0m \u001b[39mif\u001b[39;00m column \u001b[39mis\u001b[39;00m \u001b[39mnot\u001b[39;00m \u001b[39mNone\u001b[39;00m:\n",
      "File \u001b[1;32mc:\\Users\\vcn001-cl\\AppData\\Local\\Programs\\Python\\Python311\\Lib\\site-packages\\pandas\\plotting\\_matplotlib\\hist.py:367\u001b[0m, in \u001b[0;36m_grouped_hist\u001b[1;34m(data, column, by, ax, bins, figsize, layout, sharex, sharey, rot, grid, xlabelsize, xrot, ylabelsize, yrot, legend, **kwargs)\u001b[0m\n\u001b[0;32m    364\u001b[0m \u001b[39mif\u001b[39;00m xrot \u001b[39mis\u001b[39;00m \u001b[39mNone\u001b[39;00m:\n\u001b[0;32m    365\u001b[0m     xrot \u001b[39m=\u001b[39m rot\n\u001b[1;32m--> 367\u001b[0m fig, axes \u001b[39m=\u001b[39m _grouped_plot(\n\u001b[0;32m    368\u001b[0m     plot_group,\n\u001b[0;32m    369\u001b[0m     data,\n\u001b[0;32m    370\u001b[0m     column\u001b[39m=\u001b[39;49mcolumn,\n\u001b[0;32m    371\u001b[0m     by\u001b[39m=\u001b[39;49mby,\n\u001b[0;32m    372\u001b[0m     sharex\u001b[39m=\u001b[39;49msharex,\n\u001b[0;32m    373\u001b[0m     sharey\u001b[39m=\u001b[39;49msharey,\n\u001b[0;32m    374\u001b[0m     ax\u001b[39m=\u001b[39;49max,\n\u001b[0;32m    375\u001b[0m     figsize\u001b[39m=\u001b[39;49mfigsize,\n\u001b[0;32m    376\u001b[0m     layout\u001b[39m=\u001b[39;49mlayout,\n\u001b[0;32m    377\u001b[0m     rot\u001b[39m=\u001b[39;49mrot,\n\u001b[0;32m    378\u001b[0m )\n\u001b[0;32m    380\u001b[0m set_ticks_props(\n\u001b[0;32m    381\u001b[0m     axes, xlabelsize\u001b[39m=\u001b[39mxlabelsize, xrot\u001b[39m=\u001b[39mxrot, ylabelsize\u001b[39m=\u001b[39mylabelsize, yrot\u001b[39m=\u001b[39myrot\n\u001b[0;32m    382\u001b[0m )\n\u001b[0;32m    384\u001b[0m maybe_adjust_figure(\n\u001b[0;32m    385\u001b[0m     fig, bottom\u001b[39m=\u001b[39m\u001b[39m0.15\u001b[39m, top\u001b[39m=\u001b[39m\u001b[39m0.9\u001b[39m, left\u001b[39m=\u001b[39m\u001b[39m0.1\u001b[39m, right\u001b[39m=\u001b[39m\u001b[39m0.9\u001b[39m, hspace\u001b[39m=\u001b[39m\u001b[39m0.5\u001b[39m, wspace\u001b[39m=\u001b[39m\u001b[39m0.3\u001b[39m\n\u001b[0;32m    386\u001b[0m )\n",
      "File \u001b[1;32mc:\\Users\\vcn001-cl\\AppData\\Local\\Programs\\Python\\Python311\\Lib\\site-packages\\pandas\\plotting\\_matplotlib\\hist.py:287\u001b[0m, in \u001b[0;36m_grouped_plot\u001b[1;34m(plotf, data, column, by, numeric_only, figsize, sharex, sharey, layout, rot, ax, **kwargs)\u001b[0m\n\u001b[0;32m    280\u001b[0m \u001b[39mif\u001b[39;00m figsize \u001b[39m==\u001b[39m \u001b[39m\"\u001b[39m\u001b[39mdefault\u001b[39m\u001b[39m\"\u001b[39m:\n\u001b[0;32m    281\u001b[0m     \u001b[39m# allowed to specify mpl default with 'default'\u001b[39;00m\n\u001b[0;32m    282\u001b[0m     \u001b[39mraise\u001b[39;00m \u001b[39mValueError\u001b[39;00m(\n\u001b[0;32m    283\u001b[0m         \u001b[39m\"\u001b[39m\u001b[39mfigsize=\u001b[39m\u001b[39m'\u001b[39m\u001b[39mdefault\u001b[39m\u001b[39m'\u001b[39m\u001b[39m is no longer supported. \u001b[39m\u001b[39m\"\u001b[39m\n\u001b[0;32m    284\u001b[0m         \u001b[39m\"\u001b[39m\u001b[39mSpecify figure size by tuple instead\u001b[39m\u001b[39m\"\u001b[39m\n\u001b[0;32m    285\u001b[0m     )\n\u001b[1;32m--> 287\u001b[0m grouped \u001b[39m=\u001b[39m data\u001b[39m.\u001b[39;49mgroupby(by)\n\u001b[0;32m    288\u001b[0m \u001b[39mif\u001b[39;00m column \u001b[39mis\u001b[39;00m \u001b[39mnot\u001b[39;00m \u001b[39mNone\u001b[39;00m:\n\u001b[0;32m    289\u001b[0m     grouped \u001b[39m=\u001b[39m grouped[column]\n",
      "File \u001b[1;32mc:\\Users\\vcn001-cl\\AppData\\Local\\Programs\\Python\\Python311\\Lib\\site-packages\\pandas\\core\\frame.py:8252\u001b[0m, in \u001b[0;36mDataFrame.groupby\u001b[1;34m(self, by, axis, level, as_index, sort, group_keys, observed, dropna)\u001b[0m\n\u001b[0;32m   8249\u001b[0m     \u001b[39mraise\u001b[39;00m \u001b[39mTypeError\u001b[39;00m(\u001b[39m\"\u001b[39m\u001b[39mYou have to supply one of \u001b[39m\u001b[39m'\u001b[39m\u001b[39mby\u001b[39m\u001b[39m'\u001b[39m\u001b[39m and \u001b[39m\u001b[39m'\u001b[39m\u001b[39mlevel\u001b[39m\u001b[39m'\u001b[39m\u001b[39m\"\u001b[39m)\n\u001b[0;32m   8250\u001b[0m axis \u001b[39m=\u001b[39m \u001b[39mself\u001b[39m\u001b[39m.\u001b[39m_get_axis_number(axis)\n\u001b[1;32m-> 8252\u001b[0m \u001b[39mreturn\u001b[39;00m DataFrameGroupBy(\n\u001b[0;32m   8253\u001b[0m     obj\u001b[39m=\u001b[39;49m\u001b[39mself\u001b[39;49m,\n\u001b[0;32m   8254\u001b[0m     keys\u001b[39m=\u001b[39;49mby,\n\u001b[0;32m   8255\u001b[0m     axis\u001b[39m=\u001b[39;49maxis,\n\u001b[0;32m   8256\u001b[0m     level\u001b[39m=\u001b[39;49mlevel,\n\u001b[0;32m   8257\u001b[0m     as_index\u001b[39m=\u001b[39;49mas_index,\n\u001b[0;32m   8258\u001b[0m     sort\u001b[39m=\u001b[39;49msort,\n\u001b[0;32m   8259\u001b[0m     group_keys\u001b[39m=\u001b[39;49mgroup_keys,\n\u001b[0;32m   8260\u001b[0m     observed\u001b[39m=\u001b[39;49mobserved,\n\u001b[0;32m   8261\u001b[0m     dropna\u001b[39m=\u001b[39;49mdropna,\n\u001b[0;32m   8262\u001b[0m )\n",
      "File \u001b[1;32mc:\\Users\\vcn001-cl\\AppData\\Local\\Programs\\Python\\Python311\\Lib\\site-packages\\pandas\\core\\groupby\\groupby.py:931\u001b[0m, in \u001b[0;36mGroupBy.__init__\u001b[1;34m(self, obj, keys, axis, level, grouper, exclusions, selection, as_index, sort, group_keys, observed, dropna)\u001b[0m\n\u001b[0;32m    928\u001b[0m \u001b[39mself\u001b[39m\u001b[39m.\u001b[39mdropna \u001b[39m=\u001b[39m dropna\n\u001b[0;32m    930\u001b[0m \u001b[39mif\u001b[39;00m grouper \u001b[39mis\u001b[39;00m \u001b[39mNone\u001b[39;00m:\n\u001b[1;32m--> 931\u001b[0m     grouper, exclusions, obj \u001b[39m=\u001b[39m get_grouper(\n\u001b[0;32m    932\u001b[0m         obj,\n\u001b[0;32m    933\u001b[0m         keys,\n\u001b[0;32m    934\u001b[0m         axis\u001b[39m=\u001b[39;49maxis,\n\u001b[0;32m    935\u001b[0m         level\u001b[39m=\u001b[39;49mlevel,\n\u001b[0;32m    936\u001b[0m         sort\u001b[39m=\u001b[39;49msort,\n\u001b[0;32m    937\u001b[0m         observed\u001b[39m=\u001b[39;49mobserved,\n\u001b[0;32m    938\u001b[0m         dropna\u001b[39m=\u001b[39;49m\u001b[39mself\u001b[39;49m\u001b[39m.\u001b[39;49mdropna,\n\u001b[0;32m    939\u001b[0m     )\n\u001b[0;32m    941\u001b[0m \u001b[39mself\u001b[39m\u001b[39m.\u001b[39mobj \u001b[39m=\u001b[39m obj\n\u001b[0;32m    942\u001b[0m \u001b[39mself\u001b[39m\u001b[39m.\u001b[39maxis \u001b[39m=\u001b[39m obj\u001b[39m.\u001b[39m_get_axis_number(axis)\n",
      "File \u001b[1;32mc:\\Users\\vcn001-cl\\AppData\\Local\\Programs\\Python\\Python311\\Lib\\site-packages\\pandas\\core\\groupby\\grouper.py:985\u001b[0m, in \u001b[0;36mget_grouper\u001b[1;34m(obj, key, axis, level, sort, observed, validate, dropna)\u001b[0m\n\u001b[0;32m    983\u001b[0m         in_axis, level, gpr \u001b[39m=\u001b[39m \u001b[39mFalse\u001b[39;00m, gpr, \u001b[39mNone\u001b[39;00m\n\u001b[0;32m    984\u001b[0m     \u001b[39melse\u001b[39;00m:\n\u001b[1;32m--> 985\u001b[0m         \u001b[39mraise\u001b[39;00m \u001b[39mKeyError\u001b[39;00m(gpr)\n\u001b[0;32m    986\u001b[0m \u001b[39melif\u001b[39;00m \u001b[39misinstance\u001b[39m(gpr, Grouper) \u001b[39mand\u001b[39;00m gpr\u001b[39m.\u001b[39mkey \u001b[39mis\u001b[39;00m \u001b[39mnot\u001b[39;00m \u001b[39mNone\u001b[39;00m:\n\u001b[0;32m    987\u001b[0m     \u001b[39m# Add key to exclusions\u001b[39;00m\n\u001b[0;32m    988\u001b[0m     exclusions\u001b[39m.\u001b[39madd(gpr\u001b[39m.\u001b[39mkey)\n",
      "\u001b[1;31mKeyError\u001b[0m: 10"
     ]
    }
   ],
   "source": [
    "import pandas as pd\n",
    "import numbers as np\n",
    "import seaborn as sns  # import thư viện seaborn để vẽ biểu đồ\n",
    "\n",
    "boston_df = pd.read_csv('boston_house_prices.csv')\n",
    "boston_df.columns = boston_df.iloc[0]\n",
    "boston_df = boston_df[1:].reset_index(drop=True)\n",
    "boston_df = boston_df.apply(pd.to_numeric)\n",
    "\n",
    "# sns.boxplot(boston_df['DIS'])  # vẽ box plot cho dữ liệu ở cột DIS\n",
    "boston_df.hist(20,10)"
   ]
  }
 ],
 "metadata": {
  "kernelspec": {
   "display_name": "Python 3",
   "language": "python",
   "name": "python3"
  },
  "language_info": {
   "codemirror_mode": {
    "name": "ipython",
    "version": 3
   },
   "file_extension": ".py",
   "mimetype": "text/x-python",
   "name": "python",
   "nbconvert_exporter": "python",
   "pygments_lexer": "ipython3",
   "version": "3.11.4"
  }
 },
 "nbformat": 4,
 "nbformat_minor": 2
}
