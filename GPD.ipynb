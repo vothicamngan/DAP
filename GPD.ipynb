{
 "cells": [
  {
   "cell_type": "code",
   "execution_count": null,
   "metadata": {},
   "outputs": [],
   "source": [
    "# 1. Đọc bộ dữ liệu GDPlist.csv"
   ]
  },
  {
   "cell_type": "code",
   "execution_count": 8,
   "metadata": {},
   "outputs": [
    {
     "name": "stdout",
     "output_type": "stream",
     "text": [
      "        Country      Continent  GDP (millions of US$)\n",
      "0  �Afghanistan           Asia                  18181\n",
      "1      �Albania         Europe                  12847\n",
      "2      �Algeria         Africa                 190709\n",
      "3       �Angola         Africa                 100948\n",
      "4    �Argentina  South America                 447644\n"
     ]
    }
   ],
   "source": [
    "import pandas as pd\n",
    "import numpy as np\n",
    "import matplotlib.pyplot as plt\n",
    "\n",
    "df = pd.read_csv('GDPlist.csv')\n",
    "print(df.head())"
   ]
  },
  {
   "cell_type": "code",
   "execution_count": null,
   "metadata": {},
   "outputs": [],
   "source": [
    "# 2. Tìm hiểu về bộ dữ liệu"
   ]
  },
  {
   "cell_type": "code",
   "execution_count": 5,
   "metadata": {},
   "outputs": [
    {
     "name": "stdout",
     "output_type": "stream",
     "text": [
      "<class 'pandas.core.frame.DataFrame'>\n",
      "RangeIndex: 125 entries, 0 to 124\n",
      "Data columns (total 3 columns):\n",
      " #   Column                 Non-Null Count  Dtype \n",
      "---  ------                 --------------  ----- \n",
      " 0   Country                125 non-null    object\n",
      " 1   Continent              125 non-null    object\n",
      " 2   GDP (millions of US$)  125 non-null    int64 \n",
      "dtypes: int64(1), object(2)\n",
      "memory usage: 3.1+ KB\n",
      "None\n"
     ]
    }
   ],
   "source": [
    "df_inf = df.info()\n",
    "print (df_inf)"
   ]
  },
  {
   "cell_type": "code",
   "execution_count": null,
   "metadata": {},
   "outputs": [],
   "source": [
    "#  Dữ liệu gồm có 3 cột:\n",
    "#  - Country bao gồm 125 dòng không có dữ liệu rỗng được lưu dưới dạng object\n",
    "#  - Continent bao gồm 125 dòng không có dữ liệu rỗng được lưu dưới dạng object\n",
    "#  - GDP (millions of US$) bao gồm 125 dòng không có dữ liệu rỗng được lưu dưới dạng int64"
   ]
  },
  {
   "cell_type": "code",
   "execution_count": null,
   "metadata": {},
   "outputs": [],
   "source": [
    "# 3. Dự vào biểu đồ histogram để nhận xét sự phân tán dữ liệu "
   ]
  },
  {
   "cell_type": "code",
   "execution_count": 9,
   "metadata": {},
   "outputs": [
    {
     "data": {
      "image/png": "[encoded data removed]",
      "text/plain": [
       "<Figure size 640x480 with 1 Axes>"
      ]
     },
     "metadata": {},
     "output_type": "display_data"
    }
   ],
   "source": [
    "plt.hist([df['Country'],df['GDP (millions of US$)']], bins=20)\n",
    "plt.title(\"Phân bố GDP\")\n",
    "plt.xlabel(\"Quốc gia\")\n",
    "plt.ylabel(\"Tổng GDP\")\n",
    "plt.show()"
   ]
  },
  {
   "cell_type": "code",
   "execution_count": null,
   "metadata": {},
   "outputs": [],
   "source": [
    "#Từ biểu đồ cho thấy GDP các nước không đồng điều"
   ]
  },
  {
   "cell_type": "code",
   "execution_count": 18,
   "metadata": {},
   "outputs": [
    {
     "name": "stdout",
     "output_type": "stream",
     "text": [
      "       GDP (millions of US$)\n",
      "count           1.250000e+02\n",
      "mean            5.554278e+05\n",
      "std             1.649266e+06\n",
      "min             1.060000e+04\n",
      "25%             2.574200e+04\n",
      "50%             9.608900e+04\n",
      "75%             3.332380e+05\n",
      "max             1.509402e+07\n"
     ]
    }
   ],
   "source": [
    "df_des = df.describe()\n",
    "print(df_des)"
   ]
  },
  {
   "cell_type": "code",
   "execution_count": null,
   "metadata": {},
   "outputs": [],
   "source": [
    "#Phân theo group"
   ]
  },
  {
   "cell_type": "code",
   "execution_count": 14,
   "metadata": {},
   "outputs": [
    {
     "data": {
      "text/plain": [
       "Continent\n",
       "Africa           29\n",
       "Asia             36\n",
       "Europe           37\n",
       "North America    11\n",
       "Oceania           3\n",
       "South America     9\n",
       "Name: Country, dtype: int64"
      ]
     },
     "execution_count": 14,
     "metadata": {},
     "output_type": "execute_result"
    }
   ],
   "source": [
    "df.groupby('Continent')['Country'].count()"
   ]
  },
  {
   "cell_type": "code",
   "execution_count": null,
   "metadata": {},
   "outputs": [],
   "source": [
    "# Top 10 quốc gia có thu nhập cao nhất\n"
   ]
  },
  {
   "cell_type": "code",
   "execution_count": 16,
   "metadata": {},
   "outputs": [
    {
     "name": "stdout",
     "output_type": "stream",
     "text": [
      "             Country      Continent  GDP (millions of US$)\n",
      "118   �United States  North America               15094025\n",
      "23            �China           Asia                7298147\n",
      "60            �Japan           Asia                5869471\n",
      "44          �Germany         Europe                3577031\n",
      "41           �France         Europe                2776324\n",
      "15           �Brazil  South America                2492908\n",
      "117  �United Kingdom         Europe                2417570\n",
      "58            �Italy         Europe                2198730\n",
      "93           �Russia           Asia                1850401\n",
      "21           �Canada  North America                1736869\n"
     ]
    }
   ],
   "source": [
    "df_sort = df.sort_values('GDP (millions of US$)', ascending = False)\n",
    "print(df_sort.head(10))"
   ]
  }
 ],
 "metadata": {
  "kernelspec": {
   "display_name": "Python 3",
   "language": "python",
   "name": "python3"
  },
  "language_info": {
   "codemirror_mode": {
    "name": "ipython",
    "version": 3
   },
   "file_extension": ".py",
   "mimetype": "text/x-python",
   "name": "python",
   "nbconvert_exporter": "python",
   "pygments_lexer": "ipython3",
   "version": "3.11.4"
  }
 },
 "nbformat": 4,
 "nbformat_minor": 2
}
